{
 "cells": [
  {
   "cell_type": "code",
   "execution_count": 1,
   "metadata": {
    "collapsed": false
   },
   "outputs": [],
   "source": [
    "import os \n",
    "os.environ['THEANO_FLAGS'] = 'device=gpu1, floatX=float32, lib.cnmem=0.8'"
   ]
  },
  {
   "cell_type": "code",
   "execution_count": 2,
   "metadata": {
    "collapsed": false
   },
   "outputs": [
    {
     "name": "stderr",
     "output_type": "stream",
     "text": [
      "Using gpu device 1: Tesla K80 (CNMeM is enabled with initial size: 80.0% of memory, cuDNN 4007)\n"
     ]
    }
   ],
   "source": [
    "import os, sys\n",
    "sys.path.append(os.getcwd())\n",
    "\n",
    "import numpy\n",
    "numpy.random.seed(123)\n",
    "import random\n",
    "random.seed(123)\n",
    "\n",
    "import theano\n",
    "import theano.tensor as T\n",
    "import lib\n",
    "import lasagne\n",
    "import scipy.misc\n",
    "\n",
    "import time\n",
    "import functools\n",
    "import itertools\n",
    "\n",
    "from theano.sandbox.rng_mrg import MRG_RandomStreams as RandomStreams\n",
    "srng = RandomStreams(seed=4884)\n",
    "%matplotlib inline\n",
    "\n",
    "from __future__ import division\n",
    "from collections import OrderedDict\n",
    "from sklearn.utils import shuffle\n",
    "from sklearn.metrics import f1_score\n",
    "from sklearn.cross_validation import train_test_split\n",
    "from theano.tensor.nnet import conv2d\n",
    "from theano.tensor.signal import pool\n",
    "from theano.tensor.shared_randomstreams import RandomStreams\n",
    "\n",
    "import cPickle\n",
    "import numpy as np\n",
    "import theano\n",
    "import theano.tensor as T\n",
    "import matplotlib.pyplot as plt\n",
    "\n",
    "rng = np.random.RandomState(1234)"
   ]
  },
  {
   "cell_type": "code",
   "execution_count": 4,
   "metadata": {
    "collapsed": false
   },
   "outputs": [],
   "source": [
    "x  = T.tensor4('x')\n",
    "#x.tag.test_value = train_data.reshape(20,1,96000,1)\n",
    "#x.tag.test_value = np.random.rand(1, 3, 96000, 1).astype('float32')"
   ]
  },
  {
   "cell_type": "code",
   "execution_count": 6,
   "metadata": {
    "collapsed": true
   },
   "outputs": [],
   "source": [
    "theano.config.compute_test_value = 'warn'"
   ]
  },
  {
   "cell_type": "code",
   "execution_count": 5,
   "metadata": {
    "collapsed": true
   },
   "outputs": [],
   "source": [
    "class DilatedConv1D:\n",
    "    def __init__(self, output_dim, input_dim, filter_size, dilation, activation = lambda x : x, mask_type=None, bias_apply = False):\n",
    "        # accutual filter_size is filter_size // 2 + 1\n",
    "        self.input_dim = input_dim\n",
    "        self.output_dim = output_dim\n",
    "        self.filter_size = filter_size\n",
    "        self.dilation = dilation\n",
    "        self.mask_type = mask_type\n",
    "        self.filter_shape = (output_dim, input_dim, filter_size, 1)\n",
    "        self.bias_apply = bias_apply\n",
    "        \n",
    "        fan_in = np.prod(self.filter_shape[1:])\n",
    "        fan_out = (self.filter_shape[0] * np.prod(self.filter_shape[2:]))\n",
    "        \n",
    "        self.W = theano.shared(rng.uniform(low=-np.sqrt(6. / (fan_in + fan_out)), high=np.sqrt(6. / (fan_in + fan_out)), size=self.filter_shape).astype(\"float32\"), name=\"W\")\n",
    "        \n",
    "        if bias_apply is not False:\n",
    "            self.b = theano.shared(np.zeros(output_dim, dtype=theano.config.floatX), name = 'b')\n",
    "        \n",
    "        self.activation = activation\n",
    "        \n",
    "        if mask_type is not None:\n",
    "            mask = np.ones((output_dim, input_dim, filter_size, 1), dtype=theano.config.floatX)\n",
    "            center = filter_size//2\n",
    "            for i in xrange(filter_size):\n",
    "                if (i > center):\n",
    "                    mask[:, :, i, :] = 0.\n",
    "            self.W_mask = self.W * mask\n",
    "            \n",
    "        if bias_apply is not False:\n",
    "            self.params = [self.W, self.b]\n",
    "        else:\n",
    "            self.params = [self.W]\n",
    "            \n",
    "    def f_prop(self, x):\n",
    "        # inputs.shape: (batch size, input_channel, length, 1)\n",
    "        if self.mask_type is not None:\n",
    "            result = T.nnet.conv2d(x, self.W_mask, border_mode='half', filter_flip=False, filter_dilation=(self.dilation, 1))\n",
    "        else:\n",
    "            result = T.nnet.conv2d(x, self.W, border_mode='half', filter_flip=False, filter_dilation=(self.dilation, 1))\n",
    "        if self.bias_apply is not False:\n",
    "            result = result + self.b[np.newaxis, :, np.newaxis, np.newaxis] \n",
    "        result = self.activation(result)\n",
    "        return result"
   ]
  },
  {
   "cell_type": "code",
   "execution_count": 87,
   "metadata": {
    "collapsed": false
   },
   "outputs": [],
   "source": [
    "x.tag.test_value = train_data.reshape(1,1,96000,1)"
   ]
  },
  {
   "cell_type": "code",
   "execution_count": 283,
   "metadata": {
    "collapsed": true
   },
   "outputs": [],
   "source": [
    "x  = T.tensor4('x')\n",
    "#x.tag.test_value = np.random.rand(1, 1, 96000, 1).astype('float32')"
   ]
  },
  {
   "cell_type": "code",
   "execution_count": 6,
   "metadata": {
    "collapsed": true
   },
   "outputs": [],
   "source": [
    "class residual_block:\n",
    "    def __init__(self, DIM, dilation):\n",
    "        self.tanh_out = DilatedConv1D(DIM, DIM, 5, dilation, activation = T.tanh, mask_type = 'a')\n",
    "        self.sig_out = DilatedConv1D(DIM, DIM, 5, dilation, activation = T.nnet.sigmoid, mask_type = 'a')\n",
    "        filter_shape = (DIM, DIM, 1, 1)\n",
    "        fan_in = np.prod(filter_shape[1:])\n",
    "        fan_out = (filter_shape[0] * np.prod(filter_shape[2:]))\n",
    "        self.conv1_1_W_skip = theano.shared(rng.uniform(low=-np.sqrt(6. / (fan_in + fan_out)), high=np.sqrt(6. / (fan_in + fan_out)), size=filter_shape).astype(\"float32\"), name=\"W_skip\")\n",
    "        self.conv1_1_W_out = theano.shared(rng.uniform(low=-np.sqrt(6. / (fan_in + fan_out)), high=np.sqrt(6. / (fan_in + fan_out)), size=filter_shape).astype(\"float32\"), name=\"W_out\")\n",
    "        self.params = self.tanh_out.params + self.sig_out.params + [self.conv1_1_W_skip, self.conv1_1_W_out]\n",
    "    def f_prop(self, x):\n",
    "        z = self.tanh_out.f_prop(x) * self.sig_out.f_prop(x)\n",
    "        skip_out = T.nnet.conv2d(z , self.conv1_1_W_skip)\n",
    "        out = T.nnet.conv2d(z, self.conv1_1_W_out)\n",
    "        out = out + x \n",
    "        return out, skip_out"
   ]
  },
  {
   "cell_type": "code",
   "execution_count": 7,
   "metadata": {
    "collapsed": true
   },
   "outputs": [],
   "source": [
    "num_stack = 9"
   ]
  },
  {
   "cell_type": "code",
   "execution_count": 8,
   "metadata": {
    "collapsed": false
   },
   "outputs": [],
   "source": [
    "model = []\n",
    "for i in range(num_stack):\n",
    "    model += [residual_block(256, 2**i)]    "
   ]
  },
  {
   "cell_type": "code",
   "execution_count": 9,
   "metadata": {
    "collapsed": true
   },
   "outputs": [],
   "source": [
    "causal_layer = DilatedConv1D(256, 1, 5, 1, activation = lambda x:x, mask_type = 'a')"
   ]
  },
  {
   "cell_type": "code",
   "execution_count": 10,
   "metadata": {
    "collapsed": false
   },
   "outputs": [],
   "source": [
    "out = causal_layer.f_prop(x)"
   ]
  },
  {
   "cell_type": "code",
   "execution_count": 11,
   "metadata": {
    "collapsed": false
   },
   "outputs": [],
   "source": [
    "params = []\n",
    "skip_out = 0\n",
    "out = out\n",
    "for layer in model: \n",
    "    params += layer.params\n",
    "    out, skip = layer.f_prop(out)\n",
    "    skip_out += skip\n",
    "\n",
    "params = params[:-1]\n",
    "params += causal_layer.params"
   ]
  },
  {
   "cell_type": "code",
   "execution_count": 14,
   "metadata": {
    "collapsed": false
   },
   "outputs": [
    {
     "data": {
      "text/plain": [
       "(20, 256, 96000, 1)"
      ]
     },
     "execution_count": 14,
     "metadata": {},
     "output_type": "execute_result"
    }
   ],
   "source": [
    "out.tag.test_value.shape"
   ]
  },
  {
   "cell_type": "code",
   "execution_count": 290,
   "metadata": {
    "collapsed": false
   },
   "outputs": [
    {
     "data": {
      "text/plain": [
       "[W, W, W_skip, W_out, W, W, W_skip, W]"
      ]
     },
     "execution_count": 290,
     "metadata": {},
     "output_type": "execute_result"
    }
   ],
   "source": [
    "params"
   ]
  },
  {
   "cell_type": "code",
   "execution_count": 12,
   "metadata": {
    "collapsed": true
   },
   "outputs": [],
   "source": [
    "class output_layer:\n",
    "    def __init__(self):\n",
    "        filter_shape = (256, 256, 1, 1)\n",
    "        fan_in = np.prod(filter_shape[1:])\n",
    "        fan_out = (filter_shape[0] * np.prod(filter_shape[2:]))\n",
    "        self.W_con1 = theano.shared(rng.uniform(low=-np.sqrt(6. / (fan_in + fan_out)), high=np.sqrt(6. / (fan_in + fan_out)), size=filter_shape).astype(\"float32\"), name=\"W_1\")\n",
    "        self.W_con2 = theano.shared(rng.uniform(low=-np.sqrt(6. / (fan_in + fan_out)), high=np.sqrt(6. / (fan_in + fan_out)), size=filter_shape).astype(\"float32\"), name=\"W_2\")\n",
    "        self.params = [self.W_con1, self.W_con2]\n",
    "        \n",
    "    def f_prop(self, x):\n",
    "        return T.nnet.conv2d(T.nnet.relu(T.nnet.conv2d(T.nnet.relu(x) , self.W_con1)), self.W_con2)"
   ]
  },
  {
   "cell_type": "code",
   "execution_count": 13,
   "metadata": {
    "collapsed": false
   },
   "outputs": [],
   "source": [
    "output_Layer = output_layer()\n",
    "result = output_Layer.f_prop(skip_out)\n",
    "params += output_Layer.params"
   ]
  },
  {
   "cell_type": "code",
   "execution_count": 274,
   "metadata": {
    "collapsed": false
   },
   "outputs": [
    {
     "data": {
      "text/plain": [
       "(20, 8, 96000, 1)"
      ]
     },
     "execution_count": 274,
     "metadata": {},
     "output_type": "execute_result"
    }
   ],
   "source": [
    "result.tag.test_value.shape"
   ]
  },
  {
   "cell_type": "code",
   "execution_count": 14,
   "metadata": {
    "collapsed": false
   },
   "outputs": [],
   "source": [
    "tmp_1 = result.reshape((result.shape[0], result.shape[1], result.shape[2]))\n",
    "tmp_2 = tmp_1.dimshuffle(0,2,1)\n",
    "y = tmp_2.reshape((-1, tmp_2.shape[2]))\n",
    "y = T.nnet.softmax(y)\n",
    "#y.tag.test_value"
   ]
  },
  {
   "cell_type": "code",
   "execution_count": 15,
   "metadata": {
    "collapsed": false
   },
   "outputs": [],
   "source": [
    "raw_inputs = T.vector('raw_inputs').astype('int64')\n",
    "#tt= np.zeros(1*96000).astype('int64')\n",
    "#raw_inputs.tag.test_value = tt"
   ]
  },
  {
   "cell_type": "code",
   "execution_count": 199,
   "metadata": {
    "collapsed": false
   },
   "outputs": [
    {
     "data": {
      "text/plain": [
       "(96000,)"
      ]
     },
     "execution_count": 199,
     "metadata": {},
     "output_type": "execute_result"
    }
   ],
   "source": [
    "raw_inputs.tag.test_value.shape"
   ]
  },
  {
   "cell_type": "code",
   "execution_count": 212,
   "metadata": {
    "collapsed": false
   },
   "outputs": [
    {
     "data": {
      "text/plain": [
       "array(2.0906708240509033, dtype=float32)"
      ]
     },
     "execution_count": 212,
     "metadata": {},
     "output_type": "execute_result"
    }
   ],
   "source": [
    "cost.tag.test_value"
   ]
  },
  {
   "cell_type": "code",
   "execution_count": 16,
   "metadata": {
    "collapsed": false
   },
   "outputs": [],
   "source": [
    "cost = T.mean(T.nnet.categorical_crossentropy(y, raw_inputs))"
   ]
  },
  {
   "cell_type": "code",
   "execution_count": 311,
   "metadata": {
    "collapsed": true
   },
   "outputs": [],
   "source": [
    "def sgd(cost, params, eps=np.float32(0.1)):\n",
    "    gparams = T.grad(cost, params)\n",
    "    updates = OrderedDict()\n",
    "    for param, gparam in zip(params, gparams):\n",
    "        updates[param] = param - eps*gparam\n",
    "    return updates"
   ]
  },
  {
   "cell_type": "code",
   "execution_count": 17,
   "metadata": {
    "collapsed": true
   },
   "outputs": [],
   "source": [
    "def TNorm(x):\n",
    "    return T.sqrt(T.sum(T.sqr(x)))\n",
    "\n",
    "def Adam(cost, params, lr=0.0002, b1=0.1, b2=0.001, e=1e-8):\n",
    "        updates = []\n",
    "        grads = T.grad(cost, params)\n",
    "        i = theano.shared(np.float32(0.))\n",
    "        i_t = i + 1.\n",
    "        fix1 = 1. - (1. - b1)**i_t\n",
    "        fix2 = 1. - (1. - b2)**i_t\n",
    "        lr_t = lr * (T.sqrt(fix2) / fix1)\n",
    "        for p, g in zip(params, grads):\n",
    "            norm = TNorm(g)\n",
    "            g = T.switch(T.lt(1,norm), g/norm, g)\n",
    "            m = theano.shared(p.get_value() * 0.)\n",
    "            v = theano.shared(p.get_value() * 0.)\n",
    "            m_t = (b1 * g) + ((1. - b1) * m)\n",
    "            v_t = (b2 * T.sqr(g)) + ((1. - b2) * v)\n",
    "            g_t = m_t / (T.sqrt(v_t) + e)\n",
    "            p_t = p - (lr_t * g_t)\n",
    "            updates.append((m, m_t))\n",
    "            updates.append((v, v_t))\n",
    "            updates.append((p, p_t))\n",
    "        updates.append((i, i_t))\n",
    "        return updates"
   ]
  },
  {
   "cell_type": "code",
   "execution_count": 313,
   "metadata": {
    "collapsed": false
   },
   "outputs": [
    {
     "data": {
      "text/plain": [
       "0"
      ]
     },
     "execution_count": 313,
     "metadata": {},
     "output_type": "execute_result"
    }
   ],
   "source": [
    "cost"
   ]
  },
  {
   "cell_type": "code",
   "execution_count": 18,
   "metadata": {
    "collapsed": false
   },
   "outputs": [],
   "source": [
    "#g_params = T.grad(cost, params)\n",
    "updates = Adam(cost, params)\n",
    "train = theano.function(inputs=[x, raw_inputs], outputs=cost, updates=updates, allow_input_downcast=True, name='train')\n",
    "#valid = theano.function(inputs=[x, t], outputs=[cost, T.argmax(y, axis=1)], allow_input_downcast=True, name='valid')\n",
    "#test  = theano.function(inputs=[x], outputs=T.argmax(y, axis=1), name='test')"
   ]
  },
  {
   "cell_type": "code",
   "execution_count": null,
   "metadata": {
    "collapsed": false
   },
   "outputs": [
    {
     "name": "stdout",
     "output_type": "stream",
     "text": [
      "5.5446062088\n",
      "5.5326166153"
     ]
    }
   ],
   "source": [
    "TRAIN = train_data.reshape(20,1,96000,1)\n",
    "tt= raw_data.reshape(20*96000)\n",
    "\n",
    "BATCH = 2\n",
    "TRAIN = TRAIN[:BATCH,:,:,:]\n",
    "\n",
    "cost = 0\n",
    "for i in range(10000):\n",
    "    cost = train(TRAIN[:,:,:,:], tt[:BATCH*96000])\n",
    "    print cost"
   ]
  },
  {
   "cell_type": "code",
   "execution_count": 276,
   "metadata": {
    "collapsed": true
   },
   "outputs": [],
   "source": [
    "tt= raw_data.reshape(20*96000)"
   ]
  },
  {
   "cell_type": "code",
   "execution_count": 240,
   "metadata": {
    "collapsed": false
   },
   "outputs": [],
   "source": [
    "TRAIN = train_data.reshape(20,1,96000,1)"
   ]
  },
  {
   "cell_type": "code",
   "execution_count": 306,
   "metadata": {
    "collapsed": false
   },
   "outputs": [
    {
     "data": {
      "text/plain": [
       "(40000,)"
      ]
     },
     "execution_count": 306,
     "metadata": {},
     "output_type": "execute_result"
    }
   ],
   "source": [
    "tt[:20*2000].shape"
   ]
  },
  {
   "cell_type": "code",
   "execution_count": 309,
   "metadata": {
    "collapsed": false
   },
   "outputs": [
    {
     "data": {
      "text/plain": [
       "array([[[-0.1328125],\n",
       "        [-0.140625 ],\n",
       "        [-0.140625 ],\n",
       "        ..., \n",
       "        [ 0.71875  ],\n",
       "        [ 0.484375 ],\n",
       "        [-0.421875 ]],\n",
       "\n",
       "       [[ 0.984375 ],\n",
       "        [ 0.984375 ],\n",
       "        [ 0.9765625],\n",
       "        ..., \n",
       "        [ 0.40625  ],\n",
       "        [ 0.390625 ],\n",
       "        [ 0.359375 ]],\n",
       "\n",
       "       [[ 0.9296875],\n",
       "        [ 0.9140625],\n",
       "        [ 0.9140625],\n",
       "        ..., \n",
       "        [ 0.9453125],\n",
       "        [-0.328125 ],\n",
       "        [ 0.6328125]],\n",
       "\n",
       "       ..., \n",
       "       [[ 0.9609375],\n",
       "        [ 0.9375   ],\n",
       "        [ 0.9375   ],\n",
       "        ..., \n",
       "        [ 0.671875 ],\n",
       "        [ 0.6796875],\n",
       "        [ 0.6875   ]],\n",
       "\n",
       "       [[-0.140625 ],\n",
       "        [-0.1640625],\n",
       "        [-0.1640625],\n",
       "        ..., \n",
       "        [-0.2421875],\n",
       "        [-0.2578125],\n",
       "        [-0.265625 ]],\n",
       "\n",
       "       [[ 0.9765625],\n",
       "        [ 0.9765625],\n",
       "        [ 0.984375 ],\n",
       "        ..., \n",
       "        [ 0.7421875],\n",
       "        [ 0.8125   ],\n",
       "        [ 0.8828125]]], dtype=float32)"
      ]
     },
     "execution_count": 309,
     "metadata": {},
     "output_type": "execute_result"
    }
   ],
   "source": [
    "train_data"
   ]
  },
  {
   "cell_type": "code",
   "execution_count": 304,
   "metadata": {
    "collapsed": false
   },
   "outputs": [],
   "source": [
    "gg = TRAIN[:,:,:2000,:]."
   ]
  },
  {
   "cell_type": "code",
   "execution_count": 292,
   "metadata": {
    "collapsed": false
   },
   "outputs": [
    {
     "ename": "AttributeError",
     "evalue": "'scratchpad' object has no attribute 'test_value'",
     "output_type": "error",
     "traceback": [
      "\u001b[1;31m---------------------------------------------------------------------------\u001b[0m",
      "\u001b[1;31mAttributeError\u001b[0m                            Traceback (most recent call last)",
      "\u001b[1;32m<ipython-input-292-d648aa499830>\u001b[0m in \u001b[0;36m<module>\u001b[1;34m()\u001b[0m\n\u001b[1;32m----> 1\u001b[1;33m \u001b[0mskip_out\u001b[0m\u001b[1;33m.\u001b[0m\u001b[0mtag\u001b[0m\u001b[1;33m.\u001b[0m\u001b[0mtest_value\u001b[0m\u001b[1;33m.\u001b[0m\u001b[0mshape\u001b[0m\u001b[1;33m\u001b[0m\u001b[0m\n\u001b[0m",
      "\u001b[1;31mAttributeError\u001b[0m: 'scratchpad' object has no attribute 'test_value'"
     ]
    }
   ],
   "source": [
    "skip_out.tag.test_value.shape"
   ]
  },
  {
   "cell_type": "code",
   "execution_count": 20,
   "metadata": {
    "collapsed": false
   },
   "outputs": [
    {
     "name": "stdout",
     "output_type": "stream",
     "text": [
      "=======================================\n",
      "=         GENERATING INPUT DATA       =\n",
      "=======================================\n",
      "Sample Width: 2 (16-bit)\n",
      "Number of Channels: 1\n",
      "Sample Rate 48000\n",
      "Number of Samples: 98473\n",
      "Duration: 2.05s\n",
      "Raw Data Size: 196946\n",
      "Sample Width: 2 (16-bit)\n",
      "Number of Channels: 1\n",
      "Sample Rate 48000\n",
      "Number of Samples: 374855\n",
      "Duration: 7.81s\n",
      "Raw Data Size: 749710\n",
      "Sample Width: 2 (16-bit)\n",
      "Number of Channels: 1\n",
      "Sample Rate 48000\n",
      "Number of Samples: 313600\n",
      "Duration: 6.53s\n",
      "Raw Data Size: 627200\n",
      "Sample Width: 2 (16-bit)\n",
      "Number of Channels: 1\n",
      "Sample Rate 48000\n",
      "Number of Samples: 297153\n",
      "Duration: 6.19s\n",
      "Raw Data Size: 594306\n",
      "Sample Width: 2 (16-bit)\n",
      "Number of Channels: 1\n",
      "Sample Rate 48000\n",
      "Number of Samples: 387179\n",
      "Duration: 8.07s\n",
      "Raw Data Size: 774358\n",
      "Sample Width: 2 (16-bit)\n",
      "Number of Channels: 1\n",
      "Sample Rate 48000\n",
      "Number of Samples: 170092\n",
      "Duration: 3.54s\n",
      "Raw Data Size: 340184\n",
      "Sample Width: 2 (16-bit)\n",
      "Number of Channels: 1\n",
      "Sample Rate 48000\n",
      "Number of Samples: 448636\n",
      "Duration: 9.35s\n",
      "Raw Data Size: 897272\n",
      "Sample Width: 2 (16-bit)\n",
      "Number of Channels: 1\n",
      "Sample Rate 48000\n",
      "Number of Samples: 376904\n",
      "Duration: 7.85s\n",
      "Raw Data Size: 753808\n",
      "Sample Width: 2 (16-bit)\n",
      "Number of Channels: 1\n",
      "Sample Rate 48000\n",
      "Number of Samples: 362722\n",
      "Duration: 7.56s\n",
      "Raw Data Size: 725444\n",
      "Sample Width: 2 (16-bit)\n",
      "Number of Channels: 1\n",
      "Sample Rate 48000\n",
      "Number of Samples: 630649\n",
      "Duration: 13.14s\n",
      "Raw Data Size: 1261298\n",
      "Sample Width: 2 (16-bit)\n",
      "Number of Channels: 1\n",
      "Sample Rate 48000\n",
      "Number of Samples: 357115\n",
      "Duration: 7.44s\n",
      "Raw Data Size: 714230\n",
      "Sample Width: 2 (16-bit)\n",
      "Number of Channels: 1\n",
      "Sample Rate 48000\n",
      "Number of Samples: 169996\n",
      "Duration: 3.54s\n",
      "Raw Data Size: 339992\n",
      "Sample Width: 2 (16-bit)\n",
      "Number of Channels: 1\n",
      "Sample Rate 48000\n",
      "Number of Samples: 123012\n",
      "Duration: 2.56s\n",
      "Raw Data Size: 246024\n",
      "Sample Width: 2 (16-bit)\n",
      "Number of Channels: 1\n",
      "Sample Rate 48000\n",
      "Number of Samples: 151639\n",
      "Duration: 3.16s\n",
      "Raw Data Size: 303278\n",
      "Sample Width: 2 (16-bit)\n",
      "Number of Channels: 1\n",
      "Sample Rate 48000\n",
      "Number of Samples: 217217\n",
      "Duration: 4.53s\n",
      "Raw Data Size: 434434\n",
      "Sample Width: 2 (16-bit)\n",
      "Number of Channels: 1\n",
      "Sample Rate 48000\n",
      "Number of Samples: 299040\n",
      "Duration: 6.23s\n",
      "Raw Data Size: 598080\n",
      "Sample Width: 2 (16-bit)\n",
      "Number of Channels: 1\n",
      "Sample Rate 48000\n",
      "Number of Samples: 192553\n",
      "Duration: 4.01s\n",
      "Raw Data Size: 385106\n",
      "Sample Width: 2 (16-bit)\n",
      "Number of Channels: 1\n",
      "Sample Rate 48000\n",
      "Number of Samples: 186587\n",
      "Duration: 3.89s\n",
      "Raw Data Size: 373174\n",
      "Sample Width: 2 (16-bit)\n",
      "Number of Channels: 1\n",
      "Sample Rate 48000\n",
      "Number of Samples: 307435\n",
      "Duration: 6.40s\n",
      "Raw Data Size: 614870\n",
      "Sample Width: 2 (16-bit)\n",
      "Number of Channels: 1\n",
      "Sample Rate 48000\n",
      "Number of Samples: 121024\n",
      "Duration: 2.52s\n",
      "Raw Data Size: 242048\n",
      "Sample Width: 2 (16-bit)\n",
      "Number of Channels: 1\n",
      "Sample Rate 48000\n",
      "Number of Samples: 258265\n",
      "Duration: 5.38s\n",
      "Raw Data Size: 516530\n",
      "Sample Width: 2 (16-bit)\n",
      "Number of Channels: 1\n",
      "Sample Rate 48000\n",
      "Number of Samples: 182528\n",
      "Duration: 3.80s\n",
      "Raw Data Size: 365056\n",
      "Sample Width: 2 (16-bit)\n",
      "Number of Channels: 1\n",
      "Sample Rate 48000\n",
      "Number of Samples: 108669\n",
      "Duration: 2.26s\n",
      "Raw Data Size: 217338\n",
      "Sample Width: 2 (16-bit)\n",
      "Number of Channels: 1\n",
      "Sample Rate 48000\n",
      "Number of Samples: 124996\n",
      "Duration: 2.60s\n",
      "Raw Data Size: 249992\n",
      "Sample Width: 2 (16-bit)\n",
      "Number of Channels: 1\n",
      "Sample Rate 48000\n",
      "Number of Samples: 225514\n",
      "Duration: 4.70s\n",
      "Raw Data Size: 451028\n",
      "Sample Width: 2 (16-bit)\n",
      "Number of Channels: 1\n",
      "Sample Rate 48000\n",
      "Number of Samples: 151626\n",
      "Duration: 3.16s\n",
      "Raw Data Size: 303252\n",
      "Sample Width: 2 (16-bit)\n",
      "Number of Channels: 1\n",
      "Sample Rate 48000\n",
      "Number of Samples: 168067\n",
      "Duration: 3.50s\n",
      "Raw Data Size: 336134\n",
      "Sample Width: 2 (16-bit)\n",
      "Number of Channels: 1\n",
      "Sample Rate 48000\n",
      "Number of Samples: 182394\n",
      "Duration: 3.80s\n",
      "Raw Data Size: 364788\n",
      "Sample Width: 2 (16-bit)\n",
      "Number of Channels: 1\n",
      "Sample Rate 48000\n",
      "Number of Samples: 254105\n",
      "Duration: 5.29s\n",
      "Raw Data Size: 508210\n",
      "Sample Width: 2 (16-bit)\n",
      "Number of Channels: 1\n",
      "Sample Rate 48000\n",
      "Number of Samples: 151664\n",
      "Duration: 3.16s\n",
      "Raw Data Size: 303328\n",
      "Sample Width: 2 (16-bit)\n",
      "Number of Channels: 1\n",
      "Sample Rate 48000\n",
      "Number of Samples: 176149\n",
      "Duration: 3.67s\n",
      "Raw Data Size: 352298\n",
      "Sample Width: 2 (16-bit)\n",
      "Number of Channels: 1\n",
      "Sample Rate 48000\n",
      "Number of Samples: 112651\n",
      "Duration: 2.35s\n",
      "Raw Data Size: 225302\n",
      "Sample Width: 2 (16-bit)\n",
      "Number of Channels: 1\n",
      "Sample Rate 48000\n",
      "Number of Samples: 211118\n",
      "Duration: 4.40s\n",
      "Raw Data Size: 422236\n",
      "Sample Width: 2 (16-bit)\n",
      "Number of Channels: 1\n",
      "Sample Rate 48000\n",
      "Number of Samples: 211181\n",
      "Duration: 4.40s\n",
      "Raw Data Size: 422362\n",
      "Sample Width: 2 (16-bit)\n",
      "Number of Channels: 1\n",
      "Sample Rate 48000\n",
      "Number of Samples: 206996\n",
      "Duration: 4.31s\n",
      "Raw Data Size: 413992\n",
      "Sample Width: 2 (16-bit)\n",
      "Number of Channels: 1\n",
      "Sample Rate 48000\n",
      "Number of Samples: 188486\n",
      "Duration: 3.93s\n",
      "Raw Data Size: 376972\n",
      "Sample Width: 2 (16-bit)\n",
      "Number of Channels: 1\n",
      "Sample Rate 48000\n",
      "Number of Samples: 215110\n",
      "Duration: 4.48s\n",
      "Raw Data Size: 430220\n",
      "=======================================\n",
      "=       DATA GENERATION FINISHED      =\n",
      "=======================================\n",
      "(20, 96000, 1)\n",
      "(20, 96000, 1)\n"
     ]
    }
   ],
   "source": [
    "raw_data, train_data = lib.wav.generate_input_data()\n",
    "print raw_data.shape\n",
    "print train_data.shape"
   ]
  },
  {
   "cell_type": "code",
   "execution_count": 280,
   "metadata": {
    "collapsed": false
   },
   "outputs": [
    {
     "data": {
      "text/plain": [
       "0"
      ]
     },
     "execution_count": 280,
     "metadata": {},
     "output_type": "execute_result"
    }
   ],
   "source": [
    "tt.min()"
   ]
  },
  {
   "cell_type": "code",
   "execution_count": 301,
   "metadata": {
    "collapsed": false
   },
   "outputs": [
    {
     "data": {
      "text/plain": [
       "(20, 96000, 1)"
      ]
     },
     "execution_count": 301,
     "metadata": {},
     "output_type": "execute_result"
    }
   ],
   "source": [
    "raw_data.shape"
   ]
  },
  {
   "cell_type": "code",
   "execution_count": null,
   "metadata": {
    "collapsed": true
   },
   "outputs": [],
   "source": []
  }
 ],
 "metadata": {
  "kernelspec": {
   "display_name": "Python 2",
   "language": "python",
   "name": "python2"
  },
  "language_info": {
   "codemirror_mode": {
    "name": "ipython",
    "version": 2
   },
   "file_extension": ".py",
   "mimetype": "text/x-python",
   "name": "python",
   "nbconvert_exporter": "python",
   "pygments_lexer": "ipython2",
   "version": "2.7.12"
  }
 },
 "nbformat": 4,
 "nbformat_minor": 0
}
